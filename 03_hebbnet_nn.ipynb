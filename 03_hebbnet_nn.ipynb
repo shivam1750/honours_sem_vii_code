{
 "cells": [
  {
   "cell_type": "code",
   "execution_count": 37,
   "metadata": {},
   "outputs": [
    {
     "name": "stdout",
     "output_type": "stream",
     "text": [
      "1\n",
      "0\n",
      "0\n",
      "0\n"
     ]
    }
   ],
   "source": [
    "import numpy as np\n",
    "\n",
    "# Define Hebbian learning function\n",
    "def hebbian_learning(input_data, desired_output):\n",
    "    num_patterns, num_inputs = input_data.shape\n",
    "    weights = np.zeros((num_inputs, num_inputs))\n",
    "    \n",
    "    for i in range(num_patterns):\n",
    "        pattern = input_data[i, :]\n",
    "        weights = weights + np.outer(pattern, pattern * desired_output[i])\n",
    "\n",
    "    return weights / num_patterns  # Normalize the weights\n",
    "\n",
    "# Define the AND logic gate function\n",
    "def and_gate(input_data):\n",
    "    num_patterns, num_inputs = input_data.shape\n",
    "    desired_output = np.all(input_data, axis=1)  # Desired output for AND gate\n",
    "    weights = hebbian_learning(input_data, desired_output)\n",
    "\n",
    "    def predict(inputs):\n",
    "        return int(np.dot(inputs, weights.diagonal()) >= 0.5)\n",
    "\n",
    "    return predict\n",
    "\n",
    "# Training data for AND gate\n",
    "and_training_data = np.array([[1, 1], [1, 0], [0, 1], [0, 0]])\n",
    "\n",
    "# Create AND gate\n",
    "and_predictor = and_gate(and_training_data)\n",
    "\n",
    "# Test the AND gate\n",
    "print(and_predictor([1, 1]))  # Output: 1\n",
    "print(and_predictor([1, 0]))  # Output: 0\n",
    "print(and_predictor([0, 1]))  # Output: 0\n",
    "print(and_predictor([0, 0]))  # Output: 0\n"
   ]
  },
  {
   "cell_type": "code",
   "execution_count": 38,
   "metadata": {},
   "outputs": [
    {
     "name": "stdout",
     "output_type": "stream",
     "text": [
      "1\n",
      "1\n",
      "1\n",
      "0\n"
     ]
    }
   ],
   "source": [
    "# Define the OR logic gate function\n",
    "def or_gate(input_data):\n",
    "    num_patterns, num_inputs = input_data.shape\n",
    "    desired_output = np.any(input_data, axis=1)  # Desired output for OR gate\n",
    "    weights = hebbian_learning(input_data, desired_output)\n",
    "\n",
    "    def predict(inputs):\n",
    "        return int(np.dot(inputs, weights.diagonal()) >= 0.5)\n",
    "\n",
    "    return predict\n",
    "\n",
    "# Training data for OR gate\n",
    "or_training_data = np.array([[1, 1], [1, 0], [0, 1], [0, 0]])\n",
    "\n",
    "# Create OR gate\n",
    "or_predictor = or_gate(or_training_data)\n",
    "\n",
    "# Test the OR gate\n",
    "print(or_predictor([1, 1]))  # Output: 1\n",
    "print(or_predictor([1, 0]))  # Output: 1\n",
    "print(or_predictor([0, 1]))  # Output: 1\n",
    "print(or_predictor([0, 0]))  # Output: 0\n"
   ]
  }
 ],
 "metadata": {
  "kernelspec": {
   "display_name": "base",
   "language": "python",
   "name": "python3"
  },
  "language_info": {
   "codemirror_mode": {
    "name": "ipython",
    "version": 3
   },
   "file_extension": ".py",
   "mimetype": "text/x-python",
   "name": "python",
   "nbconvert_exporter": "python",
   "pygments_lexer": "ipython3",
   "version": "3.9.16"
  },
  "orig_nbformat": 4
 },
 "nbformat": 4,
 "nbformat_minor": 2
}
