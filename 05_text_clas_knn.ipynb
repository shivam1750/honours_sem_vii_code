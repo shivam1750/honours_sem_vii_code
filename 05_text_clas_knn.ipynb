{
 "cells": [
  {
   "cell_type": "code",
   "execution_count": 2,
   "metadata": {},
   "outputs": [
    {
     "name": "stdout",
     "output_type": "stream",
     "text": [
      "Predicted Sentiments: ['negative' 'negative' 'negative']\n"
     ]
    }
   ],
   "source": [
    "import numpy as np\n",
    "from sklearn.feature_extraction.text import CountVectorizer, TfidfTransformer\n",
    "from sklearn.neighbors import KNeighborsClassifier\n",
    "from sklearn.metrics import accuracy_score\n",
    "from nltk.corpus import stopwords\n",
    "from nltk.tokenize import word_tokenize\n",
    "\n",
    "# Sample Twitter data for sentiment analysis (replace with your own dataset)\n",
    "tweets = [\n",
    "    (\"I love this product. It's amazing!\", \"positive\"),\n",
    "    (\"Terrible experience with this company.\", \"negative\"),\n",
    "    (\"This movie is okay, not great.\", \"neutral\"),\n",
    "    # Add more tweets with their corresponding sentiment labels\n",
    "]\n",
    "\n",
    "# Preprocess the Twitter data\n",
    "stop_words = set(stopwords.words('english'))\n",
    "preprocessed_tweets = [(text.lower(), sentiment) for text, sentiment in tweets]\n",
    "\n",
    "# Split data into features (X) and labels (y)\n",
    "X = [text for text, _ in preprocessed_tweets]\n",
    "y = [sentiment for _, sentiment in preprocessed_tweets]\n",
    "\n",
    "# Vectorize and transform the text data\n",
    "vectorizer = CountVectorizer()\n",
    "X_vectorized = vectorizer.fit_transform(X)\n",
    "tfidf_transformer = TfidfTransformer()\n",
    "X_tfidf = tfidf_transformer.fit_transform(X_vectorized)\n",
    "\n",
    "# Create k-NN classifier\n",
    "knn_classifier = KNeighborsClassifier(n_neighbors=3)  # You can adjust the number of neighbors (k)\n",
    "\n",
    "# Train the classifier\n",
    "knn_classifier.fit(X_tfidf, y)\n",
    "\n",
    "# Predict sentiment labels for new data\n",
    "new_tweets = [\"This is a great product!\", \"I hate it.\", \"Average experience.\"]\n",
    "new_tweets = [text.lower() for text in new_tweets]\n",
    "X_new_vectorized = vectorizer.transform(new_tweets)\n",
    "X_new_tfidf = tfidf_transformer.transform(X_new_vectorized)\n",
    "predicted_sentiments = knn_classifier.predict(X_new_tfidf)\n",
    "\n",
    "print(\"Predicted Sentiments:\", predicted_sentiments)\n"
   ]
  },
  {
   "cell_type": "code",
   "execution_count": 2,
   "metadata": {},
   "outputs": [
    {
     "name": "stdout",
     "output_type": "stream",
     "text": [
      "Collecting nltk\n",
      "  Downloading nltk-3.8.1-py3-none-any.whl (1.5 MB)\n",
      "     ---------------------------------------- 1.5/1.5 MB 1.5 MB/s eta 0:00:00\n",
      "Collecting click (from nltk)\n",
      "  Using cached click-8.1.7-py3-none-any.whl (97 kB)\n",
      "Requirement already satisfied: joblib in a:\\project\\ml_project_01\\venv\\lib\\site-packages (from nltk) (1.2.0)\n",
      "Collecting regex>=2021.8.3 (from nltk)\n",
      "  Downloading regex-2023.10.3-cp39-cp39-win_amd64.whl (269 kB)\n",
      "     -------------------------------------- 269.6/269.6 kB 2.4 MB/s eta 0:00:00\n",
      "Collecting tqdm (from nltk)\n",
      "  Downloading tqdm-4.66.1-py3-none-any.whl (78 kB)\n",
      "     ---------------------------------------- 78.3/78.3 kB 4.3 MB/s eta 0:00:00\n",
      "Requirement already satisfied: colorama in c:\\users\\asus\\appdata\\roaming\\python\\python39\\site-packages (from click->nltk) (0.4.4)\n",
      "Installing collected packages: tqdm, regex, click, nltk\n",
      "Successfully installed click-8.1.7 nltk-3.8.1 regex-2023.10.3 tqdm-4.66.1\n",
      "Note: you may need to restart the kernel to use updated packages.\n"
     ]
    }
   ],
   "source": [
    "pip install nltk"
   ]
  },
  {
   "cell_type": "code",
   "execution_count": null,
   "metadata": {},
   "outputs": [],
   "source": []
  }
 ],
 "metadata": {
  "kernelspec": {
   "display_name": "base",
   "language": "python",
   "name": "python3"
  },
  "language_info": {
   "codemirror_mode": {
    "name": "ipython",
    "version": 3
   },
   "file_extension": ".py",
   "mimetype": "text/x-python",
   "name": "python",
   "nbconvert_exporter": "python",
   "pygments_lexer": "ipython3",
   "version": "3.9.16"
  },
  "orig_nbformat": 4
 },
 "nbformat": 4,
 "nbformat_minor": 2
}
